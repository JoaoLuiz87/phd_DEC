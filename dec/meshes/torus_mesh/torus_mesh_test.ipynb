{
 "cells": [
  {
   "cell_type": "code",
   "execution_count": 1,
   "metadata": {},
   "outputs": [],
   "source": [
    "import numpy as np\n",
    "from pydec import simplicial_complex \n",
    "\n",
    "class TorusMesh:\n",
    "    def __init__(self, vertices, triangles, Lx=1.0, Ly=1.0):\n",
    "        self.vertices = vertices  # Nx2 array of vertex coordinates\n",
    "        self.triangles = triangles  # Mx3 array of triangle vertex indices\n",
    "        self.Lx = Lx  # Size of the domain in x\n",
    "        self.Ly = Ly  # Size of the domain in y\n",
    "        \n",
    "        self.boundary_identifications = {}\n",
    "    \n",
    "    def identify_boundary_vertices(self):\n",
    "        # Identify vertices on x = 0 with vertices on x = Lx\n",
    "        for i, v in enumerate(self.vertices):\n",
    "            if np.isclose(v[0], 0):  # If vertex is on x = 0 boundary\n",
    "                # Find matching vertex on x = Lx\n",
    "                match = np.where((np.isclose(self.vertices[:, 0], self.Lx)) & (np.isclose(self.vertices[:, 1], v[1])))[0]\n",
    "                if match.size > 0:\n",
    "                    self.boundary_identifications[i] = match[0]\n",
    "        \n",
    "        # Identify vertices on y = 0 with vertices on y = Ly\n",
    "        for i, v in enumerate(self.vertices):\n",
    "            if np.isclose(v[1], 0):  # If vertex is on y = 0 boundary\n",
    "                # Find matching vertex on y = Ly\n",
    "                match = np.where((np.isclose(self.vertices[:, 1], self.Ly)) & (np.isclose(self.vertices[:, 0], v[0])))[0]\n",
    "                if match.size > 0:\n",
    "                    self.boundary_identifications[i] = match[0]\n",
    "    \n",
    "    def apply_identifications(self):\n",
    "        # Modify triangles to reflect identified vertices\n",
    "        new_triangles = []\n",
    "        for tri in self.triangles:\n",
    "            new_tri = [self.boundary_identifications.get(v, v) for v in tri]  # Replace vertex with its identified match\n",
    "            new_triangles.append(new_tri)\n",
    "        self.triangles = np.array(new_triangles)\n",
    "    \n",
    "    def get_simplicial_complex(self):\n",
    "        # Return the vertices and modified triangles for PyDEC\n",
    "        return self.vertices, self.triangles\n"
   ]
  },
  {
   "cell_type": "code",
   "execution_count": 2,
   "metadata": {},
   "outputs": [
    {
     "ename": "AttributeError",
     "evalue": "type object 'simplicial_complex' has no attribute 'SimplicialComplex'",
     "output_type": "error",
     "traceback": [
      "\u001b[0;31m---------------------------------------------------------------------------\u001b[0m",
      "\u001b[0;31mAttributeError\u001b[0m                            Traceback (most recent call last)",
      "Cell \u001b[0;32mIn[2], line 20\u001b[0m\n\u001b[1;32m     17\u001b[0m modified_vertices, modified_triangles \u001b[38;5;241m=\u001b[39m mesh\u001b[38;5;241m.\u001b[39mget_simplicial_complex()\n\u001b[1;32m     19\u001b[0m \u001b[38;5;66;03m# Create PyDEC simplicial complex from the modified mesh\u001b[39;00m\n\u001b[0;32m---> 20\u001b[0m simplicial_complex \u001b[38;5;241m=\u001b[39m \u001b[43mpydec\u001b[49m\u001b[38;5;241;43m.\u001b[39;49m\u001b[43msimplicial_complex\u001b[49m\u001b[38;5;241;43m.\u001b[39;49m\u001b[43mSimplicialComplex\u001b[49m((modified_vertices, modified_triangles))\n\u001b[1;32m     22\u001b[0m \u001b[38;5;66;03m# Now you can proceed with your analysis using PyDEC\u001b[39;00m\n",
      "\u001b[0;31mAttributeError\u001b[0m: type object 'simplicial_complex' has no attribute 'SimplicialComplex'"
     ]
    }
   ],
   "source": [
    "import pydec\n",
    "\n",
    "# Example mesh data: vertices and triangles (you would replace these with actual mesh data)\n",
    "vertices = np.array([[0, 0], [1, 0], [0, 1], [1, 1], [0.5, 0.5]])  # Example vertices\n",
    "triangles = np.array([[0, 1, 4], [0, 4, 2], [1, 3, 4], [2, 4, 3]])  # Example triangles\n",
    "\n",
    "# Initialize the TorusMesh\n",
    "mesh = TorusMesh(vertices, triangles)\n",
    "\n",
    "# Identify boundary vertices\n",
    "mesh.identify_boundary_vertices()\n",
    "\n",
    "# Apply the identifications to modify the mesh\n",
    "mesh.apply_identifications()\n",
    "\n",
    "# Get the modified vertices and triangles\n",
    "modified_vertices, modified_triangles = mesh.get_simplicial_complex()\n",
    "\n",
    "# Create PyDEC simplicial complex from the modified mesh\n",
    "simplicial_complex =simplicial_complex((modified_vertices, modified_triangles))\n",
    "\n",
    "# Now you can proceed with your analysis using PyDEC\n"
   ]
  },
  {
   "cell_type": "code",
   "execution_count": null,
   "metadata": {},
   "outputs": [],
   "source": []
  }
 ],
 "metadata": {
  "kernelspec": {
   "display_name": "mpas-tools",
   "language": "python",
   "name": "python3"
  },
  "language_info": {
   "codemirror_mode": {
    "name": "ipython",
    "version": 3
   },
   "file_extension": ".py",
   "mimetype": "text/x-python",
   "name": "python",
   "nbconvert_exporter": "python",
   "pygments_lexer": "ipython3",
   "version": "3.10.13"
  }
 },
 "nbformat": 4,
 "nbformat_minor": 2
}
